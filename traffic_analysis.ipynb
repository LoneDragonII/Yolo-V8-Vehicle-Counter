{
 "cells": [
  {
   "cell_type": "code",
   "execution_count": 1,
   "id": "9ae67f90-72b9-4996-97e6-22e2b22d6603",
   "metadata": {},
   "outputs": [
    {
     "name": "stderr",
     "output_type": "stream",
     "text": [
      "D:\\projects\\traffic\\traffic\\lib\\site-packages\\tqdm\\auto.py:21: TqdmWarning: IProgress not found. Please update jupyter and ipywidgets. See https://ipywidgets.readthedocs.io/en/stable/user_install.html\n",
      "  from .autonotebook import tqdm as notebook_tqdm\n",
      "WARNING  Ultralytics settings reset to defaults. \n",
      "This is normal and may be due to a recent ultralytics package update, but may have overwritten previous settings. \n",
      "You may view and update settings directly in 'C:\\Users\\abdul\\AppData\\Roaming\\Ultralytics\\settings.yaml'\n"
     ]
    }
   ],
   "source": [
    "from ultralytics import YOLO\n",
    "import cv2\n",
    "import matplotlib as plt\n",
    "import numpy as np"
   ]
  },
  {
   "cell_type": "code",
   "execution_count": 6,
   "id": "eb0db3d7-fd83-4acf-a69a-36f52c0f6828",
   "metadata": {},
   "outputs": [
    {
     "name": "stdout",
     "output_type": "stream",
     "text": [
      "Point selected: (12, 196)\n",
      "Point selected: (404, 204)\n",
      "Point selected: (454, 174)\n",
      "Point selected: (732, 166)\n",
      "Please select exactly two points to draw a line.\n"
     ]
    }
   ],
   "source": [
    "import cv2\n",
    "\n",
    "# Load the image\n",
    "image_path = 'videos/limit calc.png'\n",
    "img = cv2.imread(image_path)\n",
    "\n",
    "# List to store the coordinates\n",
    "points = []\n",
    "\n",
    "# Mouse callback function to capture coordinates\n",
    "def mouse_click(event, x, y, flags, param):\n",
    "    if event == cv2.EVENT_LBUTTONDOWN:\n",
    "        points.append((x, y))\n",
    "        print(f\"Point selected: ({x}, {y})\")\n",
    "        # Display the point on the image\n",
    "        cv2.circle(img, (x, y), 5, (0, 255, 0), -1)\n",
    "        cv2.imshow('Image', img)\n",
    "\n",
    "# Display the image and set the callback function\n",
    "cv2.imshow('Image', img)\n",
    "cv2.setMouseCallback('Image', mouse_click)\n",
    "\n",
    "# Wait until a key is pressed\n",
    "cv2.waitKey(0)\n",
    "cv2.destroyAllWindows()\n",
    "\n",
    "# Function to draw a line\n",
    "def draw_line(img, points):\n",
    "    if len(points) == 2:\n",
    "        cv2.line(img, points[0], points[1], (255, 0, 0), 2)\n",
    "        cv2.imshow('Image with Line', img)\n",
    "        cv2.waitKey(0)\n",
    "        cv2.destroyAllWindows()\n",
    "    else:\n",
    "        print(\"Please select exactly two points to draw a line.\")\n",
    "\n",
    "# Draw the line using the selected points\n",
    "draw_line(img, points)"
   ]
  },
  {
   "cell_type": "code",
   "execution_count": null,
   "id": "2e1f9a5c-5dbd-4e7f-a16a-4674f9b3984a",
   "metadata": {},
   "outputs": [],
   "source": []
  }
 ],
 "metadata": {
  "kernelspec": {
   "display_name": "Traffic",
   "language": "python",
   "name": "traffic"
  },
  "language_info": {
   "codemirror_mode": {
    "name": "ipython",
    "version": 3
   },
   "file_extension": ".py",
   "mimetype": "text/x-python",
   "name": "python",
   "nbconvert_exporter": "python",
   "pygments_lexer": "ipython3",
   "version": "3.7.6"
  }
 },
 "nbformat": 4,
 "nbformat_minor": 5
}
