from ultralytics import YOLO
import cv2
import matplotlib as plt
import numpy as np


import cv2

# Load the image
image_path = 'videos/limit calc.png'
img = cv2.imread(image_path)

# List to store the coordinates
points = []

# Mouse callback function to capture coordinates
def mouse_click(event, x, y, flags, param):
    if event == cv2.EVENT_LBUTTONDOWN:
        points.append((x, y))
        print(f"Point selected: ({x}, {y})")
        # Display the point on the image
        cv2.circle(img, (x, y), 5, (0, 255, 0), -1)
        cv2.imshow('Image', img)

# Display the image and set the callback function
cv2.imshow('Image', img)
cv2.setMouseCallback('Image', mouse_click)

# Wait until a key is pressed
cv2.waitKey(0)
cv2.destroyAllWindows()

# Function to draw a line
def draw_line(img, points):
    if len(points) == 2:
        cv2.line(img, points[0], points[1], (255, 0, 0), 2)
        cv2.imshow('Image with Line', img)
        cv2.waitKey(0)
        cv2.destroyAllWindows()
    else:
        print("Please select exactly two points to draw a line.")

# Draw the line using the selected points
draw_line(img, points)



